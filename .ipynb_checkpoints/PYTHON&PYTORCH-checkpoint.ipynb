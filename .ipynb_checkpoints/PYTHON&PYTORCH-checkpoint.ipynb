{
 "cells": [
  {
   "cell_type": "markdown",
   "id": "711bc4df",
   "metadata": {},
   "source": [
    "PYTHON & PYTORCH 笔记\n",
    "BY houyulin666"
   ]
  },
  {
   "cell_type": "code",
   "execution_count": 68,
   "id": "56766a80",
   "metadata": {},
   "outputs": [],
   "source": [
    "import torch\n",
    "import numpy as np\n",
    "from torch import nn  #torch中关于网络的模组"
   ]
  },
  {
   "cell_type": "markdown",
   "id": "1156fa5b",
   "metadata": {},
   "source": [
    "可以使用help()函数，获取相关代码信息\n",
    "help(torch.matmul)\n",
    "help(torch.randn)\n",
    "help(np.random.shuffle)\n",
    "help(torch.reshape)\n",
    "\n",
    "查找pytorch文档，很好用"
   ]
  },
  {
   "cell_type": "code",
   "execution_count": 7,
   "id": "7b8f9aa2",
   "metadata": {},
   "outputs": [
    {
     "name": "stdout",
     "output_type": "stream",
     "text": [
      "tensor([[[0., 0., 0., 0.],\n",
      "         [0., 0., 0., 0.],\n",
      "         [0., 0., 0., 0.]],\n",
      "\n",
      "        [[0., 0., 0., 0.],\n",
      "         [0., 0., 0., 0.],\n",
      "         [0., 0., 0., 0.]]])\n"
     ]
    }
   ],
   "source": [
    "x = torch.zeros((2,3,4))\n",
    "print(x)"
   ]
  },
  {
   "cell_type": "code",
   "execution_count": 9,
   "id": "a3a611f5",
   "metadata": {},
   "outputs": [
    {
     "name": "stdout",
     "output_type": "stream",
     "text": [
      "tensor([[2, 2],\n",
      "        [2, 2]])\n",
      "torch.Size([2, 2])\n"
     ]
    }
   ],
   "source": [
    "y = torch.tensor([[2,2],[2,2]])\n",
    "print(y)\n",
    "print(y.shape)"
   ]
  },
  {
   "cell_type": "code",
   "execution_count": 12,
   "id": "536ac011",
   "metadata": {},
   "outputs": [],
   "source": [
    "X = torch.arange(12, dtype=torch.float32).reshape(3,4)  #torch.float32\n",
    "Y = torch.tensor([[1,2,3]])"
   ]
  },
  {
   "cell_type": "code",
   "execution_count": 16,
   "id": "73aac5bd",
   "metadata": {},
   "outputs": [
    {
     "data": {
      "text/plain": [
       "12"
      ]
     },
     "execution_count": 16,
     "metadata": {},
     "output_type": "execute_result"
    }
   ],
   "source": [
    "Y = torch.tensor((12))\n",
    "Y.item()  #返回tensor的一个要素，且只是一个要素"
   ]
  },
  {
   "cell_type": "code",
   "execution_count": 25,
   "id": "3a592700",
   "metadata": {},
   "outputs": [
    {
     "data": {
      "text/plain": [
       "tensor([0.1000, 0.6000])"
      ]
     },
     "execution_count": 25,
     "metadata": {},
     "output_type": "execute_result"
    }
   ],
   "source": [
    "#TODO\n",
    "y = torch.tensor([0,2])\n",
    "y_hat = torch.tensor([[0.1,0.2,0.3],[0.4,0.5,0.6]])\n",
    "y_hat[[0,1], y]  "
   ]
  },
  {
   "cell_type": "markdown",
   "id": "effbeee8",
   "metadata": {},
   "source": [
    "# assert\n",
    "断言可以在条件不满足程序运行的情况下直接返回错误，而不必等待程序运行后出现崩溃的情况，\n",
    "例如我们的代码只能在 Linux 系统下运行，可以先判断当前系统是否符合条件。"
   ]
  },
  {
   "cell_type": "code",
   "execution_count": 41,
   "id": "59a40418",
   "metadata": {},
   "outputs": [],
   "source": [
    "import sys\n",
    "def judge():\n",
    "    assert ('windows' in sys.platform), \"只能在linux下使用\"\n",
    "# judge()"
   ]
  },
  {
   "cell_type": "markdown",
   "id": "7fe586d5",
   "metadata": {},
   "source": [
    "# numpy.argmax()\n",
    "numpy.argmax() 和 numpy.argmin()函数分别沿给定轴返回最大和最小元素的索引。 "
   ]
  },
  {
   "cell_type": "code",
   "execution_count": 53,
   "id": "1d434ac9",
   "metadata": {},
   "outputs": [
    {
     "name": "stdout",
     "output_type": "stream",
     "text": [
      "tensor([[0, 1, 2, 3, 4],\n",
      "        [5, 6, 7, 8, 9]])\n",
      "tensor([1, 1, 1, 1, 1])\n"
     ]
    }
   ],
   "source": [
    "X = torch.arange(10).reshape(2,5)\n",
    "print(X)\n",
    "maxX = np.argmax(X, axis = 0)\n",
    "print(maxX)"
   ]
  },
  {
   "cell_type": "markdown",
   "id": "0de28c41",
   "metadata": {},
   "source": [
    "# isinstance \n",
    "判断是否为一个类的实例"
   ]
  },
  {
   "cell_type": "code",
   "execution_count": 59,
   "id": "a2095ff5",
   "metadata": {},
   "outputs": [],
   "source": [
    "# if isinstance (net, torch.nn.Module):\n",
    "#     net.train"
   ]
  },
  {
   "cell_type": "code",
   "execution_count": 70,
   "id": "c12cb596",
   "metadata": {},
   "outputs": [],
   "source": [
    "\"\"\"\n",
    "Sequential是将网络打包\n",
    "Flatten将28*28的图片，展平成1*784。（展平层）\n",
    "\"\"\"\n",
    "\n",
    "net = nn.Sequential(nn.Flatten(), nn.Linear(784,10))\n"
   ]
  },
  {
   "cell_type": "code",
   "execution_count": null,
   "id": "cf9ff95a",
   "metadata": {},
   "outputs": [],
   "source": []
  }
 ],
 "metadata": {
  "kernelspec": {
   "display_name": "Python 3 (ipykernel)",
   "language": "python",
   "name": "python3"
  },
  "language_info": {
   "codemirror_mode": {
    "name": "ipython",
    "version": 3
   },
   "file_extension": ".py",
   "mimetype": "text/x-python",
   "name": "python",
   "nbconvert_exporter": "python",
   "pygments_lexer": "ipython3",
   "version": "3.7.10"
  }
 },
 "nbformat": 4,
 "nbformat_minor": 5
}
