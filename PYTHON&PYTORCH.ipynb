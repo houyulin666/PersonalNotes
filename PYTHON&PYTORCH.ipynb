{
 "cells": [
  {
   "cell_type": "markdown",
   "id": "668cb82d",
   "metadata": {},
   "source": [
    "PYTHON & PYTORCH 笔记\n",
    "BY houyulin666"
   ]
  },
  {
   "cell_type": "code",
   "execution_count": 4,
   "id": "937a193b",
   "metadata": {},
   "outputs": [],
   "source": [
    "import torch\n",
    "import numpy as np"
   ]
  },
  {
   "cell_type": "code",
   "execution_count": null,
   "id": "cbd7c0aa",
   "metadata": {},
   "outputs": [],
   "source": [
    "x = torch.zeros((2,3,4))\n",
    "print(x)"
   ]
  }
 ],
 "metadata": {
  "kernelspec": {
   "display_name": "Python 3 (ipykernel)",
   "language": "python",
   "name": "python3"
  },
  "language_info": {
   "codemirror_mode": {
    "name": "ipython",
    "version": 3
   },
   "file_extension": ".py",
   "mimetype": "text/x-python",
   "name": "python",
   "nbconvert_exporter": "python",
   "pygments_lexer": "ipython3",
   "version": "3.7.10"
  }
 },
 "nbformat": 4,
 "nbformat_minor": 5
}
